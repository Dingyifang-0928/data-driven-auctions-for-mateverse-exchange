{
 "cells": [
  {
   "cell_type": "code",
   "execution_count": 1,
   "id": "9de50099-ac57-49f7-8c1c-94ae8426511c",
   "metadata": {},
   "outputs": [],
   "source": [
    "from SC_VCG_multiprocess import *\n",
    "import matplotlib.pyplot as plt\n",
    "agent_num,bid_num,cycle = 80,3,20\n",
    "platform_real_ratio = [0.8,1.0,1.2]\n",
    "\n",
    "#绘图SCE-VCG 平台报价分别为0.8,1.0,1.2时，agent=80,bid=3,cycle=20时"
   ]
  },
  {
   "cell_type": "code",
   "execution_count": 2,
   "id": "97025395-38a5-4a6c-bf7a-5a58a6020574",
   "metadata": {},
   "outputs": [],
   "source": [
    "# 读取数据\n",
    "#读数据的函数增加了一个参数，需要后续修改\n",
    "# mean_SC_VCG = read_pkl('SC-VCG',agent_num,bid_num,platform_real_ratio[0])\n",
    "N = len(platform_real_ratio)\n",
    "mean_SCE_VCG = [[]for i in range(N)]\n",
    "for i in range(N):\n",
    "    mean_SCE_VCG[i] = read_pkl('SCE-VCG',agent_num,bid_num,platform_real_ratio[i])\n",
    "t = [[]for i in range(N)]\n",
    "\n",
    "SCE_VCG_W_N = [[]for i in range(N)]\n",
    "SCE_VCG_profits = [[]for i in range(N)]\n",
    "SCE_AP = [[]for i in range(N)]\n",
    "SCE_Exchange = [[]for i in range(N)]\n",
    "SCE_PExchange = [[]for i in range(N)]\n",
    "\n",
    "for i in range(N):\n",
    "    for key in mean_SCE_VCG[i]:\n",
    "        t[i].append(key)               # t = [key for key in SC_VCG]   #横坐标\n",
    "#         value1 = mean_SC_VCG[i][key]\n",
    "        value2 = mean_SCE_VCG[i][key] \n",
    "#         SC_VCG_W_N.append(round(value1[0],2))\n",
    "#         SC_VCG_profits.append(round(value1[1],2))\n",
    "#         SC_AP.append(round(value1[0]-value1[1],2))\n",
    "#         SC_Exchange.append(round(value1[3],2))\n",
    "\n",
    "        SCE_VCG_W_N[i].append(round(value2[0],2))\n",
    "        SCE_VCG_profits[i].append(round(value2[1],2))\n",
    "        SCE_AP[i].append(round(value2[0]-value2[1],2))\n",
    "        SCE_Exchange[i].append(round(value2[3],2))\n",
    "        SCE_PExchange[i].append(round(value2[5],2))"
   ]
  },
  {
   "cell_type": "code",
   "execution_count": 4,
   "id": "faa10e6b-5517-455b-92b3-e87c722c6566",
   "metadata": {},
   "outputs": [],
   "source": [
    "import csv #调用数据保存文件\n",
    "import pandas as pd #用于数据输出\n",
    "t = [i+1 for i in reversed(range(agent_num))]\n",
    "\n",
    "column = ['t','SW0.8','PS0.8','AP0.8','RE0.8','PRE0.8','SW1.0','PS1.0','AP1.0','RE1.0','PRE1.0','SW1.2','PS1.2','AP1.2','RE1.2','PRE1.2'] #列表头名称\n",
    "df = pd.DataFrame()\n",
    "df[column[0]] = t\n",
    "df[column[1]] = SCE_VCG_W_N[0]\n",
    "df[column[2]] = SCE_VCG_profits[0]\n",
    "df[column[3]] = SCE_AP[0]\n",
    "df[column[4]] = SCE_Exchange[0]\n",
    "df[column[5]] = SCE_PExchange[0]\n",
    "\n",
    "df[column[6]] = SCE_VCG_W_N[1]\n",
    "df[column[7]] = SCE_VCG_profits[1]\n",
    "df[column[8]] = SCE_AP[1]\n",
    "df[column[9]] = SCE_Exchange[1]\n",
    "df[column[10]] = SCE_PExchange[1]\n",
    "\n",
    "df[column[11]] = SCE_VCG_W_N[2]\n",
    "df[column[12]] = SCE_VCG_profits[2]\n",
    "df[column[13]] = SCE_AP[2]\n",
    "df[column[14]] = SCE_Exchange[2]\n",
    "df[column[15]] = SCE_PExchange[2]\n",
    "# df = pd.DataFrame(columns = column,data = dt)#将数据放进表格\n",
    "path = './data/'\n",
    "dt_name = path + 'Table4'+ '_' +'0.8_1.0_1.2'  + '_'+ str(agent_num)+'_'+ str(bid_num)  + '.csv'\n",
    "df.to_csv(dt_name) #数据存入csv,存储位置及文件名称"
   ]
  },
  {
   "cell_type": "code",
   "execution_count": null,
   "id": "389a2fbc-ea17-4ef8-8165-075be338b696",
   "metadata": {},
   "outputs": [],
   "source": []
  }
 ],
 "metadata": {
  "kernelspec": {
   "display_name": "Python 3 (ipykernel)",
   "language": "python",
   "name": "python3"
  },
  "language_info": {
   "codemirror_mode": {
    "name": "ipython",
    "version": 3
   },
   "file_extension": ".py",
   "mimetype": "text/x-python",
   "name": "python",
   "nbconvert_exporter": "python",
   "pygments_lexer": "ipython3",
   "version": "3.9.19"
  }
 },
 "nbformat": 4,
 "nbformat_minor": 5
}
