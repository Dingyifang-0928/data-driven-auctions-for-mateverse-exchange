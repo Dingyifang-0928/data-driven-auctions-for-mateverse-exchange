{
 "cells": [
  {
   "cell_type": "code",
   "execution_count": 3,
   "id": "2c5173db",
   "metadata": {},
   "outputs": [],
   "source": [
    "from SC_VCG_multiprocess import *\n",
    "import time"
   ]
  },
  {
   "cell_type": "code",
   "execution_count": 4,
   "id": "734e896f",
   "metadata": {},
   "outputs": [
    {
     "name": "stdout",
     "output_type": "stream",
     "text": [
      "total time:16037.588652800005\n"
     ]
    }
   ],
   "source": [
    "#实验1，2，3\n",
    "#40,3√  40,6√  40,9√\n",
    "#80,3√  80,6√  80,9√\n",
    "#120,3√ 120,6√ 120,9√\n",
    "\n",
    "#实验4 平台的真实报价高10%或者低10%\n",
    "# 40,3,0.9   40,3,1.1   √\n",
    "# 80,6,0.9   80,6,1.1   √\n",
    "\n",
    "agent_num,bid_num,cycle = 80,3,20       #agents,bids,cycle\n",
    "self_bid_range,other_bid_range,platform_bid_range = [0,20],[10,50],[10,50]\n",
    "platform_real_ratio = 0.8\n",
    "\n",
    "#计算数据及保存\n",
    "compute(agent_num,bid_num,cycle,self_bid_range,other_bid_range,platform_bid_range,platform_real_ratio)"
   ]
  },
  {
   "cell_type": "code",
   "execution_count": null,
   "id": "85e7a518",
   "metadata": {},
   "outputs": [],
   "source": [
    "#改了原来文件里主函数的一个参数，由原来的1，80算成40，80，减少时间以后看看能不能算完；"
   ]
  },
  {
   "cell_type": "code",
   "execution_count": null,
   "id": "6ef0a85b",
   "metadata": {},
   "outputs": [],
   "source": []
  }
 ],
 "metadata": {
  "kernelspec": {
   "display_name": "Python 3 (ipykernel)",
   "language": "python",
   "name": "python3"
  },
  "language_info": {
   "codemirror_mode": {
    "name": "ipython",
    "version": 3
   },
   "file_extension": ".py",
   "mimetype": "text/x-python",
   "name": "python",
   "nbconvert_exporter": "python",
   "pygments_lexer": "ipython3",
   "version": "3.9.19"
  }
 },
 "nbformat": 4,
 "nbformat_minor": 5
}
