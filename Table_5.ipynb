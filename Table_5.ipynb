{
 "cells": [
  {
   "cell_type": "code",
   "execution_count": 1,
   "id": "d46fd3c1-0184-47cb-b0b3-1b427f6f5b43",
   "metadata": {},
   "outputs": [],
   "source": [
    "from SC_VCG_multiprocess_selfish import *   #这里引入读取虚假投标的函数\n",
    "import matplotlib.pyplot as plt\n",
    "#绘图SCE-VCG 平台报价分别虚假报价为0.8,1.0,1.2时，agent=80,bid=3,cycle=20时的对比图\n",
    "agent_num,bid_num,cycle = 80,3,20\n",
    "platform_selfish_ratio = [0.8,1.0,1.2]\n"
   ]
  },
  {
   "cell_type": "code",
   "execution_count": 2,
   "id": "2a9b6c4c-7ff3-4406-b6d6-c6ab49419b4c",
   "metadata": {},
   "outputs": [],
   "source": [
    "# 读取数据\n",
    "#读数据的函数增加了一个参数，需要后续修改\n",
    "# mean_SC_VCG = read_pkl('SC-VCG',agent_num,bid_num,platform_real_ratio[0])\n",
    "N = len(platform_selfish_ratio)\n",
    "mean_SCE_VCG = [[]for i in range(N)]\n",
    "for i in range(N):\n",
    "    mean_SCE_VCG[i] = read_pkl('SCE-VCG',agent_num,bid_num,platform_selfish_ratio[i])\n",
    "t = [[]for i in range(N)]\n",
    "\n",
    "SCE_VCG_W_N = [[]for i in range(N)]\n",
    "SCE_VCG_profits = [[]for i in range(N)]\n",
    "SCE_AP = [[]for i in range(N)]\n",
    "SCE_Exchange = [[]for i in range(N)]\n",
    "SCE_PExchange = [[]for i in range(N)]\n",
    "\n",
    "for i in range(N):\n",
    "    for key in mean_SCE_VCG[i]:\n",
    "        t[i].append(key)               # t = [key for key in SC_VCG]   #横坐标\n",
    "#         value1 = mean_SC_VCG[i][key]\n",
    "        value2 = mean_SCE_VCG[i][key] \n",
    "\n",
    "        SCE_VCG_W_N[i].append(round(value2[0],2))\n",
    "        SCE_VCG_profits[i].append(round(value2[1],2))\n",
    "        SCE_AP[i].append(round(value2[0]-value2[1],2))\n",
    "        SCE_Exchange[i].append(round(value2[3],2))\n",
    "        SCE_PExchange[i].append(round(value2[5],2))"
   ]
  },
  {
   "cell_type": "code",
   "execution_count": 3,
   "id": "a994c26b-a734-42b2-9007-82e20c45136f",
   "metadata": {},
   "outputs": [],
   "source": [
    "import csv #调用数据保存文件\n",
    "import pandas as pd #用于数据输出\n",
    "t = [i+1 for i in reversed(range(agent_num))]\n",
    "\n",
    "column = ['t','SW0.8','PS0.8','AP0.8','RE0.8','PRE0.8','SW1.0','PS1.0','AP1.0','RE1.0','PRE1.0','SW1.2','PS1.2','AP1.2','RE1.2','PRE1.2'] #列表头名称\n",
    "df = pd.DataFrame()\n",
    "df[column[0]] = t\n",
    "df[column[1]] = SCE_VCG_W_N[0]\n",
    "df[column[2]] = SCE_VCG_profits[0]\n",
    "df[column[3]] = SCE_AP[0]\n",
    "df[column[4]] = SCE_Exchange[0]\n",
    "df[column[5]] = SCE_PExchange[0]\n",
    "\n",
    "df[column[6]] = SCE_VCG_W_N[1]\n",
    "df[column[7]] = SCE_VCG_profits[1]\n",
    "df[column[8]] = SCE_AP[1]\n",
    "df[column[9]] = SCE_Exchange[1]\n",
    "df[column[10]] = SCE_PExchange[1]\n",
    "\n",
    "df[column[11]] = SCE_VCG_W_N[2]\n",
    "df[column[12]] = SCE_VCG_profits[2]\n",
    "df[column[13]] = SCE_AP[2]\n",
    "df[column[14]] = SCE_Exchange[2]\n",
    "df[column[15]] = SCE_PExchange[2]\n",
    "# df = pd.DataFrame(columns = column,data = dt)#将数据放进表格\n",
    "path = './data/'\n",
    "dt_name = path + 'Table5'+ '_' +'0.8_1.0_1.2'  + '_'+ str(agent_num)+'_'+ str(bid_num)  +'_'+ \"selfish\"+ '.csv'\n",
    "df.to_csv(dt_name) #数据存入csv,存储位置及文件名称"
   ]
  },
  {
   "cell_type": "code",
   "execution_count": null,
   "id": "d79a325d-496f-4b2f-9e99-c39b3bffbd59",
   "metadata": {},
   "outputs": [],
   "source": []
  }
 ],
 "metadata": {
  "kernelspec": {
   "display_name": "Python 3 (ipykernel)",
   "language": "python",
   "name": "python3"
  },
  "language_info": {
   "codemirror_mode": {
    "name": "ipython",
    "version": 3
   },
   "file_extension": ".py",
   "mimetype": "text/x-python",
   "name": "python",
   "nbconvert_exporter": "python",
   "pygments_lexer": "ipython3",
   "version": "3.9.19"
  }
 },
 "nbformat": 4,
 "nbformat_minor": 5
}
