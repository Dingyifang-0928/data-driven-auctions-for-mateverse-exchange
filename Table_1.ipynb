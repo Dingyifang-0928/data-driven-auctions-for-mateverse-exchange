{
 "cells": [
  {
   "cell_type": "code",
   "execution_count": 1,
   "id": "ea56d4a3",
   "metadata": {},
   "outputs": [],
   "source": [
    "from SC_VCG_multiprocess import *\n",
    "import matplotlib.pyplot as plt\n",
    "agent_num,bid_num,cycle = 80,3,20"
   ]
  },
  {
   "cell_type": "code",
   "execution_count": 2,
   "id": "17fb5690-abec-48db-a79d-c65e455faf0b",
   "metadata": {},
   "outputs": [],
   "source": [
    "# 读取数据\n",
    "prr = 1.0\n",
    "mean_SC_VCG = read_pkl('SC-VCG',agent_num,bid_num,prr)\n",
    "mean_SCE_VCG = read_pkl('SCE-VCG',agent_num,bid_num,prr)\n"
   ]
  },
  {
   "cell_type": "code",
   "execution_count": 3,
   "id": "b8ab78b7",
   "metadata": {},
   "outputs": [],
   "source": [
    "t,SC_VCG_W_N,SC_VCG_profits,SCE_VCG_W_N,SCE_VCG_profits = [],[],[],[],[]\n",
    "SC_AP,SC_Exchange,SCE_AP,SCE_Exchange,SCE_PExchange = [],[],[],[],[]\n",
    "\n",
    "for key in mean_SC_VCG:\n",
    "    t.append(key)               # t = [key for key in SC_VCG]   #横坐标\n",
    "    value1 = mean_SC_VCG[key]\n",
    "    value2 = mean_SCE_VCG[key] \n",
    "    SC_VCG_W_N.append(round(value1[0],2))\n",
    "    SC_VCG_profits.append(round(value1[1],2))\n",
    "    SC_AP.append(round(value1[0]-value1[1],2))\n",
    "    SC_Exchange.append(round(value1[3],2))\n",
    "    \n",
    "    SCE_VCG_W_N.append(round(value2[0],2))\n",
    "    SCE_VCG_profits.append(round(value2[1],2))\n",
    "    SCE_AP.append(round(value2[0]-value2[1],2))\n",
    "    SCE_Exchange.append(round(value2[3],2))\n",
    "    SCE_PExchange.append(round(value2[5],2))"
   ]
  },
  {
   "cell_type": "code",
   "execution_count": 4,
   "id": "a3cc978a",
   "metadata": {},
   "outputs": [],
   "source": [
    "#输出数据到CSV文件   表头为：t SW PS AP RE(%) PRE(%) SW/best_SC_VCG_SW\n",
    "#SCE-VCG\n",
    "import csv #调用数据保存文件\n",
    "import pandas as pd #用于数据输出\n",
    "t = [i+1 for i in reversed(range(agent_num))]\n",
    "max_SW_SC_VCG = max(SC_VCG_W_N)\n",
    "SW_ratio = [round(i*100/max_SW_SC_VCG,2) for i in SCE_VCG_W_N]\n",
    "\n",
    "column = ['t','SW','PS','AP','RE(%)','PRE(%)','SW/best_SC_VCG_SW'] #列表头名称\n",
    "df = pd.DataFrame()\n",
    "df[column[0]] = t\n",
    "df[column[1]] = SCE_VCG_W_N\n",
    "df[column[2]] = SCE_VCG_profits\n",
    "df[column[3]] = SCE_AP\n",
    "df[column[4]] = SCE_Exchange\n",
    "df[column[5]] = SCE_PExchange\n",
    "df[column[6]] = SW_ratio\n",
    "\n",
    "# df = pd.DataFrame(columns = column,data = dt)#将数据放进表格\n",
    "path = './data/'\n",
    "dt_name = path + 'Table1'+ '_' + str(agent_num) + '_' + str(bid_num)  + '.csv'\n",
    "df.to_csv(dt_name) #数据存入csv,存储位置及文件名称"
   ]
  },
  {
   "cell_type": "code",
   "execution_count": 5,
   "id": "05b0924f-f11c-431e-807a-5d913ded84b6",
   "metadata": {},
   "outputs": [],
   "source": [
    "#输出数据到CSV文件   表头为：t SW PS AP RE(%) PRE(%) SW/best_SC_VCG_SW\n",
    "#SC-VCG\n",
    "\n",
    "# t = [i+1 for i in reversed(range(agent_num))]\n",
    "# max_SW_SC_VCG = max(SC_VCG_W_N)\n",
    "# SW_ratio = [round(i*100/max_SW_SC_VCG,2) for i in SCE_VCG_W_N]\n",
    "column = ['t','SW','PS','AP','RE(%)','PRE(%)'] #列表头名称\n",
    "df = pd.DataFrame()\n",
    "df[column[0]] = t\n",
    "df[column[1]] = SC_VCG_W_N\n",
    "df[column[2]] = SC_VCG_profits\n",
    "df[column[3]] = SC_AP\n",
    "df[column[4]] = SC_Exchange\n",
    "\n",
    "# df = pd.DataFrame(columns = column,data = dt)#将数据放进表格\n",
    "path = './data/'\n",
    "dt_name = path + 'Table1'+ '_' + str(agent_num) + '_' + str(bid_num)  +\"_SC_VCG\"+ '.csv'\n",
    "df.to_csv(dt_name) #数据存入csv,存储位置及文件名称"
   ]
  },
  {
   "cell_type": "code",
   "execution_count": 16,
   "id": "52607545",
   "metadata": {},
   "outputs": [
    {
     "data": {
      "text/plain": [
       "(674.85, 989.03)"
      ]
     },
     "execution_count": 16,
     "metadata": {},
     "output_type": "execute_result"
    }
   ],
   "source": [
    "max(SC_VCG_profits),max(SCE_VCG_profits)"
   ]
  },
  {
   "cell_type": "code",
   "execution_count": 17,
   "id": "5a74ae8c",
   "metadata": {
    "scrolled": true
   },
   "outputs": [
    {
     "name": "stdout",
     "output_type": "stream",
     "text": [
      "80 -1287.09\n",
      "79 -1287.09\n",
      "78 -1287.09\n",
      "77 -1278.59\n",
      "76 -1281.94\n",
      "75 -1290.23\n",
      "74 -1256.43\n",
      "73 -1230.94\n",
      "72 -1177.09\n",
      "71 -1094.67\n",
      "70 -1055.4\n",
      "69 -803.12\n",
      "68 -719.32\n",
      "67 -632.8\n",
      "66 -439.6\n",
      "65 -325.54\n",
      "64 -324.76\n",
      "63 -228.91\n",
      "62 -54.03\n",
      "61 87.81\n",
      "60 187.98\n",
      "59 189.76\n",
      "58 192.2\n",
      "57 315.63\n",
      "56 339.5\n",
      "55 351.36\n",
      "54 441.81\n",
      "53 409.08\n",
      "52 451.52\n",
      "51 492.51\n",
      "50 518.92\n",
      "49 519.13\n",
      "48 578.06\n",
      "47 588.88\n",
      "46 616.73\n",
      "45 547.78\n",
      "44 584.0\n",
      "43 623.72\n",
      "42 658.56\n",
      "41 646.48\n",
      "40 640.29\n",
      "39 626.48\n",
      "38 616.52\n",
      "37 652.34\n",
      "36 674.85\n",
      "35 595.65\n",
      "34 646.35\n",
      "33 580.93\n",
      "32 631.39\n",
      "31 606.06\n",
      "30 595.79\n",
      "29 577.98\n",
      "28 514.95\n",
      "27 561.66\n",
      "26 490.42\n",
      "25 517.05\n",
      "24 508.13\n",
      "23 493.79\n",
      "22 469.86\n",
      "21 415.1\n",
      "20 406.34\n",
      "19 403.4\n",
      "18 401.9\n",
      "17 363.32\n",
      "16 338.54\n",
      "15 322.41\n",
      "14 320.65\n",
      "13 286.63\n",
      "12 273.32\n",
      "11 244.33\n",
      "10 210.34\n",
      "9 198.41\n",
      "8 192.27\n",
      "7 158.6\n",
      "6 135.23\n",
      "5 126.35\n",
      "4 81.34\n",
      "3 52.39\n",
      "2 28.49\n",
      "1 0.0\n"
     ]
    }
   ],
   "source": [
    "SC_VCG_profits\n",
    "t = [i+1 for i in reversed(range(agent_num))]\n",
    "for i in range(0,80):\n",
    "    print(80-i,SC_VCG_profits[i])"
   ]
  },
  {
   "cell_type": "code",
   "execution_count": null,
   "id": "1cb9fffd",
   "metadata": {},
   "outputs": [],
   "source": []
  }
 ],
 "metadata": {
  "kernelspec": {
   "display_name": "Python 3 (ipykernel)",
   "language": "python",
   "name": "python3"
  },
  "language_info": {
   "codemirror_mode": {
    "name": "ipython",
    "version": 3
   },
   "file_extension": ".py",
   "mimetype": "text/x-python",
   "name": "python",
   "nbconvert_exporter": "python",
   "pygments_lexer": "ipython3",
   "version": "3.9.19"
  }
 },
 "nbformat": 4,
 "nbformat_minor": 5
}
