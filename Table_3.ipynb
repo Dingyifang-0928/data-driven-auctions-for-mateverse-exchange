{
 "cells": [
  {
   "cell_type": "code",
   "execution_count": 6,
   "id": "ea56d4a3",
   "metadata": {},
   "outputs": [],
   "source": [
    "from SC_VCG_multiprocess import *\n",
    "import matplotlib.pyplot as plt\n",
    "agent = [40,80,120]\n",
    "bid_num = 6\n",
    "# 第三张表：40,80,120-6bids ，前20条数据"
   ]
  },
  {
   "cell_type": "code",
   "execution_count": 7,
   "id": "b8ab78b7",
   "metadata": {},
   "outputs": [],
   "source": [
    "# 读取数据\n",
    "N_t = [[] for i in range(3)]\n",
    "SC_VCG_W_N = [[]for i in range(3)]\n",
    "SC_VCG_profits= [[]for i in range(3)]\n",
    "SC_AP= [[]for i in range(3)]\n",
    "SC_Exchange= [[]for i in range(3)]\n",
    "\n",
    "SCE_VCG_W_N= [[]for i in range(3)]\n",
    "SCE_VCG_profits= [[]for i in range(3)]\n",
    "SCE_AP= [[]for i in range(3)]\n",
    "SCE_Exchange= [[]for i in range(3)]\n",
    "SCE_PExchange= [[]for i in range(3)]\n",
    "\n",
    "index = 0\n",
    "for agent_num in agent:\n",
    "    mean_SC_VCG = read_pkl('SC-VCG',agent_num,bid_num)\n",
    "    mean_SCE_VCG = read_pkl('SCE-VCG',agent_num,bid_num)\n",
    "\n",
    "    for key in mean_SC_VCG:\n",
    "        N_t[index].append(agent_num - key)               # t = [key for key in SC_VCG]   #横坐标\n",
    "        value1 = mean_SC_VCG[key]\n",
    "        value2 = mean_SCE_VCG[key] \n",
    "        SC_VCG_W_N[index].append(value1[0])\n",
    "        SC_VCG_profits[index].append(value1[1])\n",
    "        SC_AP[index].append(value1[0]-value1[1])\n",
    "        SC_Exchange[index].append(value1[3])\n",
    "\n",
    "        SCE_VCG_W_N[index].append(round(value2[0],2))\n",
    "        SCE_VCG_profits[index].append(round(value2[1],2))\n",
    "        SCE_AP[index].append(round(value2[0]-value2[1],2))     \n",
    "        SCE_Exchange[index].append(round(value2[3],2))\n",
    "        SCE_PExchange[index].append(round(value2[5],2))\n",
    "    index += 1"
   ]
  },
  {
   "cell_type": "code",
   "execution_count": 8,
   "id": "2e932a47",
   "metadata": {},
   "outputs": [],
   "source": [
    "#输出数据到CSV文件   表头为：t SW PS AP RE(%) PRE(%) SW/best_SC_VCG_SW\n",
    "import csv #调用数据保存文件\n",
    "import pandas as pd #用于数据输出\n",
    "# t = [i+1 for i in reversed(range(agent_num))]\n",
    "\n",
    "column = ['|N|-t','SW4','PS4','AP4','RE4','PRE4','SW8','PS8','AP8','RE8','PRE8','SW12','PS12','AP12','RE12','PRE12'] #列表头名称\n",
    "df = pd.DataFrame()\n",
    "df[column[0]] = N_t[0][:21]\n",
    "df[column[1]] = SCE_VCG_W_N[0][:21]\n",
    "df[column[2]] = SCE_VCG_profits[0][:21]\n",
    "df[column[3]] = SCE_AP[0][:21]\n",
    "df[column[4]] = SCE_Exchange[0][:21]\n",
    "df[column[5]] = SCE_PExchange[0][:21]\n",
    "\n",
    "df[column[6]] = SCE_VCG_W_N[1][:21]\n",
    "df[column[7]] = SCE_VCG_profits[1][:21]\n",
    "df[column[8]] = SCE_AP[1][:21]\n",
    "df[column[9]] = SCE_Exchange[1][:21]\n",
    "df[column[10]] = SCE_PExchange[1][:21]\n",
    "\n",
    "df[column[11]] = SCE_VCG_W_N[2][:21]\n",
    "df[column[12]] = SCE_VCG_profits[2][:21]\n",
    "df[column[13]] = SCE_AP[2][:21]\n",
    "df[column[14]] = SCE_Exchange[2][:21]\n",
    "df[column[15]] = SCE_PExchange[2][:21]\n",
    "# df = pd.DataFrame(columns = column,data = dt)#将数据放进表格\n",
    "path = './data/'\n",
    "dt_name = path + 'Table3'+ '_' +'40-80-120'  + '_'+ str(bid_num)  + '.csv'\n",
    "df.to_csv(dt_name) #数据存入csv,存储位置及文件名称"
   ]
  },
  {
   "cell_type": "code",
   "execution_count": null,
   "id": "eec6b6a1",
   "metadata": {},
   "outputs": [],
   "source": []
  }
 ],
 "metadata": {
  "kernelspec": {
   "display_name": "Python 3 (ipykernel)",
   "language": "python",
   "name": "python3"
  },
  "language_info": {
   "codemirror_mode": {
    "name": "ipython",
    "version": 3
   },
   "file_extension": ".py",
   "mimetype": "text/x-python",
   "name": "python",
   "nbconvert_exporter": "python",
   "pygments_lexer": "ipython3",
   "version": "3.9.19"
  }
 },
 "nbformat": 4,
 "nbformat_minor": 5
}
