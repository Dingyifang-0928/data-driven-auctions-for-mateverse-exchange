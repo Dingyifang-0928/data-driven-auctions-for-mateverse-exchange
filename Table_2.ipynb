{
 "cells": [
  {
   "cell_type": "code",
   "execution_count": 12,
   "id": "ea56d4a3",
   "metadata": {},
   "outputs": [],
   "source": [
    "from SC_VCG_multiprocess import *\n",
    "import matplotlib.pyplot as plt\n",
    "agent_num = 80\n",
    "bid = [3,6,9]\n",
    "# 第二张表：80-3/6/9bids ，前20条数据"
   ]
  },
  {
   "cell_type": "code",
   "execution_count": 13,
   "id": "b8ab78b7",
   "metadata": {},
   "outputs": [],
   "source": [
    "# 读取数据\n",
    "t = [[]for i in range(3)]\n",
    "SC_VCG_W_N = [[]for i in range(3)]\n",
    "SC_VCG_profits= [[]for i in range(3)]\n",
    "SC_AP= [[]for i in range(3)]\n",
    "SC_Exchange= [[]for i in range(3)]\n",
    "\n",
    "SCE_VCG_W_N= [[]for i in range(3)]\n",
    "SCE_VCG_profits= [[]for i in range(3)]\n",
    "SCE_AP= [[]for i in range(3)]\n",
    "SCE_Exchange= [[]for i in range(3)]\n",
    "SCE_PExchange= [[]for i in range(3)]\n",
    "\n",
    "index = 0\n",
    "for bid_num in bid:\n",
    "    mean_SC_VCG = read_pkl('SC-VCG',agent_num,bid_num)\n",
    "    mean_SCE_VCG = read_pkl('SCE-VCG',agent_num,bid_num)\n",
    "\n",
    "    for key in mean_SC_VCG:\n",
    "        t[index].append(key)               # t = [key for key in SC_VCG]   #横坐标\n",
    "        value1 = mean_SC_VCG[key]\n",
    "        value2 = mean_SCE_VCG[key] \n",
    "        SC_VCG_W_N[index].append(value1[0])\n",
    "        SC_VCG_profits[index].append(value1[1])\n",
    "        SC_AP[index].append(value1[0]-value1[1])\n",
    "        SC_Exchange[index].append(value1[3])\n",
    "\n",
    "        SCE_VCG_W_N[index].append(round(value2[0],2))\n",
    "        SCE_VCG_profits[index].append(round(value2[1],2))\n",
    "        SCE_AP[index].append(round(value2[0]-value2[1],2))     \n",
    "        SCE_Exchange[index].append(round(value2[3],2))\n",
    "        SCE_PExchange[index].append(round(value2[5],2))\n",
    "    index += 1"
   ]
  },
  {
   "cell_type": "code",
   "execution_count": 14,
   "id": "2e932a47",
   "metadata": {},
   "outputs": [],
   "source": [
    "#输出数据到CSV文件   表头为：t SW PS AP RE(%) PRE(%) SW/best_SC_VCG_SW\n",
    "import csv #调用数据保存文件\n",
    "import pandas as pd #用于数据输出\n",
    "t = [i+1 for i in reversed(range(agent_num))]\n",
    "\n",
    "column = ['t','SW3','PS3','AP3','RE3','PRE3','SW6','PS6','AP6','RE6','PRE6','SW9','PS9','AP9','RE9','PRE9'] #列表头名称\n",
    "df = pd.DataFrame()\n",
    "df[column[0]] = t\n",
    "df[column[1]] = SCE_VCG_W_N[0]\n",
    "df[column[2]] = SCE_VCG_profits[0]\n",
    "df[column[3]] = SCE_AP[0]\n",
    "df[column[4]] = SCE_Exchange[0]\n",
    "df[column[5]] = SCE_PExchange[0]\n",
    "\n",
    "df[column[6]] = SCE_VCG_W_N[1]\n",
    "df[column[7]] = SCE_VCG_profits[1]\n",
    "df[column[8]] = SCE_AP[1]\n",
    "df[column[9]] = SCE_Exchange[1]\n",
    "df[column[10]] = SCE_PExchange[1]\n",
    "\n",
    "df[column[11]] = SCE_VCG_W_N[2]\n",
    "df[column[12]] = SCE_VCG_profits[2]\n",
    "df[column[13]] = SCE_AP[2]\n",
    "df[column[14]] = SCE_Exchange[2]\n",
    "df[column[15]] = SCE_PExchange[2]\n",
    "# df = pd.DataFrame(columns = column,data = dt)#将数据放进表格\n",
    "path = './data/'\n",
    "dt_name = path + 'Table2'+ '_' + str(agent_num) + '_' +'3-6-9'  + '.csv'\n",
    "df.to_csv(dt_name) #数据存入csv,存储位置及文件名称"
   ]
  },
  {
   "cell_type": "code",
   "execution_count": null,
   "id": "eec6b6a1",
   "metadata": {},
   "outputs": [],
   "source": []
  }
 ],
 "metadata": {
  "kernelspec": {
   "display_name": "Python 3 (ipykernel)",
   "language": "python",
   "name": "python3"
  },
  "language_info": {
   "codemirror_mode": {
    "name": "ipython",
    "version": 3
   },
   "file_extension": ".py",
   "mimetype": "text/x-python",
   "name": "python",
   "nbconvert_exporter": "python",
   "pygments_lexer": "ipython3",
   "version": "3.9.19"
  }
 },
 "nbformat": 4,
 "nbformat_minor": 5
}
